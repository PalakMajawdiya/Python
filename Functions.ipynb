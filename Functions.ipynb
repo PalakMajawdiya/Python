{
 "cells": [
  {
   "cell_type": "code",
   "execution_count": 3,
   "metadata": {},
   "outputs": [
    {
     "name": "stdout",
     "output_type": "stream",
     "text": [
      "Good morning , pleasure to meet you\n"
     ]
    }
   ],
   "source": [
    "# Functions\n",
    "def Greeting():\n",
    "    print(\"Good morning , pleasure to meet you\")\n",
    "Greeting()"
   ]
  },
  {
   "cell_type": "code",
   "execution_count": 6,
   "metadata": {},
   "outputs": [
    {
     "name": "stdout",
     "output_type": "stream",
     "text": [
      "Multiplication  of  20 and 30 is 600\n",
      "Multiplication  of  45 and 87 is 3915\n"
     ]
    }
   ],
   "source": [
    "def mult(a,b):\n",
    "    c=a*b\n",
    "    print(\"Multiplication  of \", a, \"and\" , b ,'is' , c)\n",
    "mult(20,30)\n",
    "mult(45,87)"
   ]
  },
  {
   "cell_type": "code",
   "execution_count": 1,
   "metadata": {},
   "outputs": [],
   "source": [
    "# Lambda function"
   ]
  },
  {
   "cell_type": "code",
   "execution_count": 2,
   "metadata": {},
   "outputs": [
    {
     "data": {
      "text/plain": [
       "30"
      ]
     },
     "execution_count": 2,
     "metadata": {},
     "output_type": "execute_result"
    }
   ],
   "source": [
    "# Normal function \n",
    "def add(x,y):\n",
    "    return(x+y)\n",
    "add(10,20)"
   ]
  },
  {
   "cell_type": "code",
   "execution_count": 3,
   "metadata": {},
   "outputs": [
    {
     "data": {
      "text/plain": [
       "30"
      ]
     },
     "execution_count": 3,
     "metadata": {},
     "output_type": "execute_result"
    }
   ],
   "source": [
    "# Lambda function\n",
    "add=lambda x,y:x+y # here add is name of funtion\n",
    "add(10,20)"
   ]
  },
  {
   "cell_type": "code",
   "execution_count": 4,
   "metadata": {},
   "outputs": [
    {
     "data": {
      "text/plain": [
       "200"
      ]
     },
     "execution_count": 4,
     "metadata": {},
     "output_type": "execute_result"
    }
   ],
   "source": [
    "Mul=lambda x,y:x*y\n",
    "Mul(10,20)"
   ]
  },
  {
   "cell_type": "code",
   "execution_count": 5,
   "metadata": {},
   "outputs": [],
   "source": [
    "#Filter function"
   ]
  },
  {
   "cell_type": "code",
   "execution_count": 16,
   "metadata": {},
   "outputs": [
    {
     "name": "stdout",
     "output_type": "stream",
     "text": [
      "[5, 7, 9]\n"
     ]
    }
   ],
   "source": [
    "num=[5,7,9,10,12,34,56]\n",
    "final_list=list(filter(lambda x: (x % 2 !=0) , num))\n",
    "print(final_list)\n",
    "# it filters the list it means it check the condition x%2!=0 and print it"
   ]
  },
  {
   "cell_type": "code",
   "execution_count": null,
   "metadata": {},
   "outputs": [],
   "source": [
    "# You can not compute anything in filter"
   ]
  },
  {
   "cell_type": "markdown",
   "metadata": {},
   "source": [
    "**MAP FUNCTION** \n",
    "using Map Function we can compute anything which we can't do with filter"
   ]
  },
  {
   "cell_type": "code",
   "execution_count": 17,
   "metadata": {},
   "outputs": [
    {
     "name": "stdout",
     "output_type": "stream",
     "text": [
      "[0, 100, 200, 300, 400]\n"
     ]
    }
   ],
   "source": [
    "varlist=[0,10,20,30,40]\n",
    "final_list=list(map(lambda var: (var*10) , varlist))\n",
    "print(final_list)"
   ]
  },
  {
   "cell_type": "code",
   "execution_count": 18,
   "metadata": {},
   "outputs": [
    {
     "name": "stdout",
     "output_type": "stream",
     "text": [
      "[3, 7, 11, 17, 21]\n"
     ]
    }
   ],
   "source": [
    "List_A=[2,4,6,8,10]\n",
    "List_B=[1,3,5,9,11]\n",
    "print(list(map(lambda x,y: (x+y) , List_A , List_B)))"
   ]
  },
  {
   "cell_type": "markdown",
   "metadata": {},
   "source": [
    "**REDUCER**"
   ]
  },
  {
   "cell_type": "code",
   "execution_count": 23,
   "metadata": {},
   "outputs": [
    {
     "name": "stdout",
     "output_type": "stream",
     "text": [
      "83\n",
      "10567557\n"
     ]
    }
   ],
   "source": [
    "import functools as f\n",
    "import operator as o\n",
    "List=[3,7,9,11,13,17,23]\n",
    "sum=f.reduce(o.add , List)\n",
    "print(sum)\n",
    "mul=f.reduce(o.mul , List)\n",
    "print(mul)\n",
    "# here every number is added iteratively but it does not show sum of two numbers individually , it display sum of whole list"
   ]
  },
  {
   "cell_type": "markdown",
   "metadata": {},
   "source": [
    "*ACCUMULATOR*"
   ]
  },
  {
   "cell_type": "code",
   "execution_count": 24,
   "metadata": {},
   "outputs": [
    {
     "name": "stdout",
     "output_type": "stream",
     "text": [
      "The summation of list is:  [4, 9, 15, 34, 56, 89, 100]\n"
     ]
    }
   ],
   "source": [
    "import itertools as i\n",
    "List=[4,5,6,19,22,33,11]\n",
    "print(\"The summation of list is:  \" ,end=\"\")\n",
    "print(list(i.accumulate(List , lambda x,y: (x+y))))"
   ]
  },
  {
   "cell_type": "code",
   "execution_count": 25,
   "metadata": {},
   "outputs": [
    {
     "name": "stdout",
     "output_type": "stream",
     "text": [
      "[4, 20, 120, 2280, 50160, 1655280, 18208080]\n"
     ]
    }
   ],
   "source": [
    "print(list(i.accumulate(List , lambda x,y: (x*y))))\n",
    "# it gives  output of operation for individual numbers"
   ]
  },
  {
   "cell_type": "code",
   "execution_count": null,
   "metadata": {},
   "outputs": [],
   "source": []
  }
 ],
 "metadata": {
  "kernelspec": {
   "display_name": "Python 3",
   "language": "python",
   "name": "python3"
  },
  "language_info": {
   "codemirror_mode": {
    "name": "ipython",
    "version": 3
   },
   "file_extension": ".py",
   "mimetype": "text/x-python",
   "name": "python",
   "nbconvert_exporter": "python",
   "pygments_lexer": "ipython3",
   "version": "3.8.3"
  }
 },
 "nbformat": 4,
 "nbformat_minor": 4
}
