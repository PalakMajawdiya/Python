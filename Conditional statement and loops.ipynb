{
 "cells": [
  {
   "cell_type": "code",
   "execution_count": 1,
   "metadata": {},
   "outputs": [],
   "source": [
    "# Conditional statements are if , else and elif"
   ]
  },
  {
   "cell_type": "code",
   "execution_count": 3,
   "metadata": {},
   "outputs": [
    {
     "name": "stdout",
     "output_type": "stream",
     "text": [
      "Peer group\n"
     ]
    }
   ],
   "source": [
    "# if and else\n",
    "age=30\n",
    "if(age>40):\n",
    "    print(\"senior group\")\n",
    "else:\n",
    "    print(\"Peer group\")"
   ]
  },
  {
   "cell_type": "code",
   "execution_count": 4,
   "metadata": {},
   "outputs": [
    {
     "name": "stdout",
     "output_type": "stream",
     "text": [
      "value of a is equal to 10\n"
     ]
    }
   ],
   "source": [
    "#elif condition\n",
    "a=10\n",
    "if(a<10):\n",
    "    print(\"Value of a is less than 10\")\n",
    "elif(a>10):\n",
    "    print(\"Value of a is greater than 10\")\n",
    "else:\n",
    "    print(\"value of a is equal to 10\")"
   ]
  },
  {
   "cell_type": "code",
   "execution_count": 7,
   "metadata": {},
   "outputs": [
    {
     "name": "stdout",
     "output_type": "stream",
     "text": [
      "you are qualified for senior post in our company\n"
     ]
    }
   ],
   "source": [
    "age = 40\n",
    "Qualification = \"PG\"\n",
    "workexp=10 \n",
    "Nationality=\"Indian\"\n",
    "if(age >= 40 and Qualification==\"PG\" and workexp > 5 and Nationality==\"Indian\"):\n",
    "    print(\"you are qualified for senior post in our company\")\n",
    "elif(age < 40):\n",
    "    print(\"Age bar status is failed!\")\n",
    "elif(Qualification!=\"PG\"):\n",
    "    print(\"You are not qualified for this post\")\n",
    "elif(workexp < 5):\n",
    "    print(\"workxp status is not matched! sorry\")\n",
    "elif(Nationality != \"Indian\"):\n",
    "    print(\"Not eligible because of nationality\")\n",
    "else:\n",
    "    print(\"Not eligible for this post\")"
   ]
  },
  {
   "cell_type": "code",
   "execution_count": 13,
   "metadata": {},
   "outputs": [
    {
     "name": "stdout",
     "output_type": "stream",
     "text": [
      " hi  John  ! please join my party\n",
      " hi  juhi  ! please join my party\n",
      " hi  kartik  ! please join my party\n",
      " hi  Jay  ! please join my party\n",
      " hi  Nick  ! please join my party\n"
     ]
    }
   ],
   "source": [
    "# Loops\n",
    "# For loop\n",
    "a=['John',\"juhi\",\"kartik\",\"Jay\",\"Nick\"]\n",
    "for name in a:\n",
    "    Greetings=\" hi  \" + name + \"  ! please join my party\"\n",
    "    print(Greetings)"
   ]
  },
  {
   "cell_type": "code",
   "execution_count": 14,
   "metadata": {},
   "outputs": [
    {
     "name": "stdout",
     "output_type": "stream",
     "text": [
      "20\n",
      "40\n",
      "60\n",
      "80\n",
      "100\n"
     ]
    }
   ],
   "source": [
    "List=[2,4,6,8,10]\n",
    "for i in List:\n",
    "    print(10*i)"
   ]
  },
  {
   "cell_type": "code",
   "execution_count": 20,
   "metadata": {},
   "outputs": [
    {
     "name": "stdout",
     "output_type": "stream",
     "text": [
      "1\n",
      "2\n",
      "3\n",
      "4\n",
      "5\n",
      "6\n",
      "7\n",
      "8\n",
      "9\n"
     ]
    }
   ],
   "source": [
    "#While loop\n",
    "n=1\n",
    "while(n<10):\n",
    "    print(n)\n",
    "    n=n+1  "
   ]
  },
  {
   "cell_type": "code",
   "execution_count": 25,
   "metadata": {},
   "outputs": [
    {
     "name": "stdout",
     "output_type": "stream",
     "text": [
      "[120, 150, 180, 210, 240, 270, 300, 330, 360, 390, 420, 450, 480, 510, 540, 570, 600, 630, 660, 690, 720, 750, 780, 810, 840, 870, 900, 930, 960, 990]\n",
      "30\n"
     ]
    }
   ],
   "source": [
    "#Nested loops\n",
    "#count the numbers between 100 to 999 which are divisible by 30\n",
    "List=[]\n",
    "for x in range(100,999):\n",
    "    if(x%30==0):\n",
    "        List.append(x)\n",
    "print(List)\n",
    "print(len(List))\n",
    "    "
   ]
  },
  {
   "cell_type": "code",
   "execution_count": null,
   "metadata": {},
   "outputs": [],
   "source": []
  }
 ],
 "metadata": {
  "kernelspec": {
   "display_name": "Python 3",
   "language": "python",
   "name": "python3"
  },
  "language_info": {
   "codemirror_mode": {
    "name": "ipython",
    "version": 3
   },
   "file_extension": ".py",
   "mimetype": "text/x-python",
   "name": "python",
   "nbconvert_exporter": "python",
   "pygments_lexer": "ipython3",
   "version": "3.8.3"
  }
 },
 "nbformat": 4,
 "nbformat_minor": 4
}
